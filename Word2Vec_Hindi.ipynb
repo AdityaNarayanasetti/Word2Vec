{
 "cells": [
  {
   "cell_type": "markdown",
   "metadata": {},
   "source": [
    "# WORD2VEC FOR HINDI WORDS"
   ]
  },
  {
   "cell_type": "code",
   "execution_count": 1,
   "metadata": {},
   "outputs": [],
   "source": [
    "import gensim\n",
    "from gensim.models import Word2Vec"
   ]
  },
  {
   "cell_type": "code",
   "execution_count": 2,
   "metadata": {},
   "outputs": [],
   "source": [
    "def read_hindi_file(file_path):\n",
    "    with open(file_path, 'r', encoding='utf-8') as f:\n",
    "        hindi_text = f.read()\n",
    "    return hindi_text"
   ]
  },
  {
   "cell_type": "code",
   "execution_count": 3,
   "metadata": {},
   "outputs": [],
   "source": [
    "def preprocess_and_tokenize(text):\n",
    "    tokenized_text = text.split()\n",
    "    return tokenized_text"
   ]
  },
  {
   "cell_type": "code",
   "execution_count": 4,
   "metadata": {},
   "outputs": [],
   "source": [
    "file_path = 'IITB.en-hi.hi'\n",
    "hindi_text = read_hindi_file(file_path)"
   ]
  },
  {
   "cell_type": "code",
   "execution_count": 5,
   "metadata": {},
   "outputs": [],
   "source": [
    "tokenized_text = preprocess_and_tokenize(hindi_text)\n",
    "dataset = [tokenized_text]"
   ]
  },
  {
   "cell_type": "code",
   "execution_count": 6,
   "metadata": {},
   "outputs": [],
   "source": [
    "model = Word2Vec(sentences=dataset, vector_size=100, window=5, min_count=1)"
   ]
  },
  {
   "cell_type": "code",
   "execution_count": 7,
   "metadata": {},
   "outputs": [],
   "source": [
    "model.save(\"hindi_word2vec_model.bin\")"
   ]
  },
  {
   "cell_type": "code",
   "execution_count": 12,
   "metadata": {},
   "outputs": [
    {
     "name": "stdout",
     "output_type": "stream",
     "text": [
      "Similarity between  राजा  and  रानी  :  0.429853\n"
     ]
    }
   ],
   "source": [
    "from sklearn.metrics.pairwise import cosine_similarity\n",
    "word1 = \"राजा\"\n",
    "word2 = \"रानी\"\n",
    "vector1 = model.wv[word1]\n",
    "vector2 = model.wv[word2]\n",
    "vector1 = vector1.reshape(1, -1) \n",
    "vector2 = vector2.reshape(1, -1) \n",
    "similarity = cosine_similarity(vector1, vector2)[0][0]\n",
    "print(\"Similarity between \", word1, \" and \", word2, \" : \", similarity)"
   ]
  },
  {
   "cell_type": "markdown",
   "metadata": {},
   "source": [
    "# VISUALIZATION USING t-SNE"
   ]
  },
  {
   "cell_type": "code",
   "execution_count": 13,
   "metadata": {},
   "outputs": [],
   "source": [
    "import matplotlib.pyplot as plt\n",
    "from sklearn.manifold import TSNE"
   ]
  },
  {
   "cell_type": "code",
   "execution_count": 18,
   "metadata": {},
   "outputs": [],
   "source": [
    "def plot_tsne(model, words):\n",
    "    # Extract embeddings for the specified words\n",
    "    embeddings = [model.wv[word] for word in words]\n",
    "\n",
    "    # Perform t-SNE to reduce dimensionality to 2D\n",
    "    tsne = TSNE(n_components=2, random_state=42)\n",
    "    embeddings_2d = tsne.fit_transform(embeddings)\n",
    "\n",
    "    # Plot the words in 2D space\n",
    "    plt.figure(figsize=(12, 8))\n",
    "    for i in range(len(words)):\n",
    "        plt.scatter(embeddings_2d[i, 0], embeddings_2d[i, 1])\n",
    "        plt.text(embeddings_2d[i, 0] + 0.2, embeddings_2d[i, 1] + 0.2, words[i], fontsize=12)\n",
    "\n",
    "    plt.title(f't-SNE Visualization of {lang} Word Embeddings')\n",
    "    plt.xlabel('Dimension 1')\n",
    "    plt.ylabel('Dimension 2')\n",
    "    plt.show()"
   ]
  },
  {
   "cell_type": "code",
   "execution_count": null,
   "metadata": {},
   "outputs": [],
   "source": [
    "words_to_plot = ['राजा', 'रानी', 'मनुष्य', 'महिला']\n",
    "plot_tsne(model, words_to_plot)"
   ]
  }
 ],
 "metadata": {
  "kernelspec": {
   "display_name": "Python 3",
   "language": "python",
   "name": "python3"
  },
  "language_info": {
   "codemirror_mode": {
    "name": "ipython",
    "version": 3
   },
   "file_extension": ".py",
   "mimetype": "text/x-python",
   "name": "python",
   "nbconvert_exporter": "python",
   "pygments_lexer": "ipython3",
   "version": "3.10.4"
  }
 },
 "nbformat": 4,
 "nbformat_minor": 2
}
